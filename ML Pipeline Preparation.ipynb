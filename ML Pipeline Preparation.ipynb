{
 "cells": [
  {
   "cell_type": "markdown",
   "metadata": {},
   "source": [
    "# ML Pipeline Preparation\n",
    "Follow the instructions below to help you create your ML pipeline.\n",
    "### 1. Import libraries and load data from database.\n",
    "- Import Python libraries\n",
    "- Load dataset from database with [`read_sql_table`](https://pandas.pydata.org/pandas-docs/stable/generated/pandas.read_sql_table.html)\n",
    "- Define feature and target variables X and Y"
   ]
  },
  {
   "cell_type": "code",
   "execution_count": 1,
   "metadata": {},
   "outputs": [
    {
     "name": "stderr",
     "output_type": "stream",
     "text": [
      "[nltk_data] Downloading package punkt to /Users/guyzidkia/nltk_data...\n",
      "[nltk_data]   Package punkt is already up-to-date!\n",
      "[nltk_data] Downloading package wordnet to\n",
      "[nltk_data]     /Users/guyzidkia/nltk_data...\n",
      "[nltk_data]   Package wordnet is already up-to-date!\n",
      "[nltk_data] Downloading package averaged_perceptron_tagger to\n",
      "[nltk_data]     /Users/guyzidkia/nltk_data...\n",
      "[nltk_data]   Package averaged_perceptron_tagger is already up-to-\n",
      "[nltk_data]       date!\n"
     ]
    }
   ],
   "source": [
    "# import libraries\n",
    "import pandas as pd\n",
    "import numpy as np\n",
    "from sqlalchemy import create_engine\n",
    "\n",
    "\n",
    "import nltk\n",
    "nltk.download(['punkt', 'wordnet', 'averaged_perceptron_tagger'])\n",
    "\n",
    "import re\n",
    "from nltk.tokenize import word_tokenize\n",
    "from nltk.stem import WordNetLemmatizer\n",
    "\n",
    "from sklearn.metrics import confusion_matrix\n",
    "from sklearn.metrics import classification_report\n",
    "from sklearn.model_selection import GridSearchCV\n",
    "from sklearn.ensemble import RandomForestClassifier\n",
    "from sklearn.model_selection import train_test_split\n",
    "from sklearn.pipeline import Pipeline, FeatureUnion\n",
    "from sklearn.base import BaseEstimator, TransformerMixin\n",
    "from sklearn.feature_extraction.text import CountVectorizer, TfidfTransformer\n",
    "from sklearn.svm import SVC\n",
    "from sklearn.multioutput import MultiOutputClassifier"
   ]
  },
  {
   "cell_type": "code",
   "execution_count": 2,
   "metadata": {},
   "outputs": [],
   "source": [
    "# load data from database\n",
    "engine = create_engine('sqlite:///Data_clean.db')\n",
    "df = pd.read_sql ('SELECT * FROM Data_clean', engine)\n",
    "X = df['message']\n",
    "Y = df.iloc[:,4:]"
   ]
  },
  {
   "cell_type": "code",
   "execution_count": 3,
   "metadata": {},
   "outputs": [],
   "source": [
    "#for column in Y.columns:\n",
    " #   print (Y[column].unique())"
   ]
  },
  {
   "cell_type": "code",
   "execution_count": 4,
   "metadata": {},
   "outputs": [
    {
     "data": {
      "text/html": [
       "<div>\n",
       "<style scoped>\n",
       "    .dataframe tbody tr th:only-of-type {\n",
       "        vertical-align: middle;\n",
       "    }\n",
       "\n",
       "    .dataframe tbody tr th {\n",
       "        vertical-align: top;\n",
       "    }\n",
       "\n",
       "    .dataframe thead th {\n",
       "        text-align: right;\n",
       "    }\n",
       "</style>\n",
       "<table border=\"1\" class=\"dataframe\">\n",
       "  <thead>\n",
       "    <tr style=\"text-align: right;\">\n",
       "      <th></th>\n",
       "      <th>request</th>\n",
       "      <th>offer</th>\n",
       "      <th>aid_related</th>\n",
       "      <th>medical_help</th>\n",
       "      <th>medical_products</th>\n",
       "      <th>search_and_rescue</th>\n",
       "      <th>security</th>\n",
       "      <th>military</th>\n",
       "      <th>child_alone</th>\n",
       "      <th>water</th>\n",
       "      <th>...</th>\n",
       "      <th>aid_centers</th>\n",
       "      <th>other_infrastructure</th>\n",
       "      <th>weather_related</th>\n",
       "      <th>floods</th>\n",
       "      <th>storm</th>\n",
       "      <th>fire</th>\n",
       "      <th>earthquake</th>\n",
       "      <th>cold</th>\n",
       "      <th>other_weather</th>\n",
       "      <th>direct_report</th>\n",
       "    </tr>\n",
       "    <tr>\n",
       "      <th>related</th>\n",
       "      <th></th>\n",
       "      <th></th>\n",
       "      <th></th>\n",
       "      <th></th>\n",
       "      <th></th>\n",
       "      <th></th>\n",
       "      <th></th>\n",
       "      <th></th>\n",
       "      <th></th>\n",
       "      <th></th>\n",
       "      <th></th>\n",
       "      <th></th>\n",
       "      <th></th>\n",
       "      <th></th>\n",
       "      <th></th>\n",
       "      <th></th>\n",
       "      <th></th>\n",
       "      <th></th>\n",
       "      <th></th>\n",
       "      <th></th>\n",
       "      <th></th>\n",
       "    </tr>\n",
       "  </thead>\n",
       "  <tbody>\n",
       "    <tr>\n",
       "      <td>0</td>\n",
       "      <td>6122</td>\n",
       "      <td>6122</td>\n",
       "      <td>6122</td>\n",
       "      <td>6122</td>\n",
       "      <td>6122</td>\n",
       "      <td>6122</td>\n",
       "      <td>6122</td>\n",
       "      <td>6122</td>\n",
       "      <td>6122</td>\n",
       "      <td>6122</td>\n",
       "      <td>...</td>\n",
       "      <td>6122</td>\n",
       "      <td>6122</td>\n",
       "      <td>6122</td>\n",
       "      <td>6122</td>\n",
       "      <td>6122</td>\n",
       "      <td>6122</td>\n",
       "      <td>6122</td>\n",
       "      <td>6122</td>\n",
       "      <td>6122</td>\n",
       "      <td>6122</td>\n",
       "    </tr>\n",
       "    <tr>\n",
       "      <td>1</td>\n",
       "      <td>19906</td>\n",
       "      <td>19906</td>\n",
       "      <td>19906</td>\n",
       "      <td>19906</td>\n",
       "      <td>19906</td>\n",
       "      <td>19906</td>\n",
       "      <td>19906</td>\n",
       "      <td>19906</td>\n",
       "      <td>19906</td>\n",
       "      <td>19906</td>\n",
       "      <td>...</td>\n",
       "      <td>19906</td>\n",
       "      <td>19906</td>\n",
       "      <td>19906</td>\n",
       "      <td>19906</td>\n",
       "      <td>19906</td>\n",
       "      <td>19906</td>\n",
       "      <td>19906</td>\n",
       "      <td>19906</td>\n",
       "      <td>19906</td>\n",
       "      <td>19906</td>\n",
       "    </tr>\n",
       "    <tr>\n",
       "      <td>2</td>\n",
       "      <td>188</td>\n",
       "      <td>188</td>\n",
       "      <td>188</td>\n",
       "      <td>188</td>\n",
       "      <td>188</td>\n",
       "      <td>188</td>\n",
       "      <td>188</td>\n",
       "      <td>188</td>\n",
       "      <td>188</td>\n",
       "      <td>188</td>\n",
       "      <td>...</td>\n",
       "      <td>188</td>\n",
       "      <td>188</td>\n",
       "      <td>188</td>\n",
       "      <td>188</td>\n",
       "      <td>188</td>\n",
       "      <td>188</td>\n",
       "      <td>188</td>\n",
       "      <td>188</td>\n",
       "      <td>188</td>\n",
       "      <td>188</td>\n",
       "    </tr>\n",
       "  </tbody>\n",
       "</table>\n",
       "<p>3 rows × 35 columns</p>\n",
       "</div>"
      ],
      "text/plain": [
       "         request  offer  aid_related  medical_help  medical_products  \\\n",
       "related                                                                \n",
       "0           6122   6122         6122          6122              6122   \n",
       "1          19906  19906        19906         19906             19906   \n",
       "2            188    188          188           188               188   \n",
       "\n",
       "         search_and_rescue  security  military  child_alone  water  ...  \\\n",
       "related                                                             ...   \n",
       "0                     6122      6122      6122         6122   6122  ...   \n",
       "1                    19906     19906     19906        19906  19906  ...   \n",
       "2                      188       188       188          188    188  ...   \n",
       "\n",
       "         aid_centers  other_infrastructure  weather_related  floods  storm  \\\n",
       "related                                                                      \n",
       "0               6122                  6122             6122    6122   6122   \n",
       "1              19906                 19906            19906   19906  19906   \n",
       "2                188                   188              188     188    188   \n",
       "\n",
       "          fire  earthquake   cold  other_weather  direct_report  \n",
       "related                                                          \n",
       "0         6122        6122   6122           6122           6122  \n",
       "1        19906       19906  19906          19906          19906  \n",
       "2          188         188    188            188            188  \n",
       "\n",
       "[3 rows x 35 columns]"
      ]
     },
     "execution_count": 4,
     "metadata": {},
     "output_type": "execute_result"
    }
   ],
   "source": [
    "Y.groupby(\"related\").count()"
   ]
  },
  {
   "cell_type": "code",
   "execution_count": 5,
   "metadata": {},
   "outputs": [],
   "source": [
    "Y[Y[\"related\"]==2] =1"
   ]
  },
  {
   "cell_type": "code",
   "execution_count": 6,
   "metadata": {},
   "outputs": [
    {
     "data": {
      "text/html": [
       "<div>\n",
       "<style scoped>\n",
       "    .dataframe tbody tr th:only-of-type {\n",
       "        vertical-align: middle;\n",
       "    }\n",
       "\n",
       "    .dataframe tbody tr th {\n",
       "        vertical-align: top;\n",
       "    }\n",
       "\n",
       "    .dataframe thead th {\n",
       "        text-align: right;\n",
       "    }\n",
       "</style>\n",
       "<table border=\"1\" class=\"dataframe\">\n",
       "  <thead>\n",
       "    <tr style=\"text-align: right;\">\n",
       "      <th></th>\n",
       "      <th>request</th>\n",
       "      <th>offer</th>\n",
       "      <th>aid_related</th>\n",
       "      <th>medical_help</th>\n",
       "      <th>medical_products</th>\n",
       "      <th>search_and_rescue</th>\n",
       "      <th>security</th>\n",
       "      <th>military</th>\n",
       "      <th>child_alone</th>\n",
       "      <th>water</th>\n",
       "      <th>...</th>\n",
       "      <th>aid_centers</th>\n",
       "      <th>other_infrastructure</th>\n",
       "      <th>weather_related</th>\n",
       "      <th>floods</th>\n",
       "      <th>storm</th>\n",
       "      <th>fire</th>\n",
       "      <th>earthquake</th>\n",
       "      <th>cold</th>\n",
       "      <th>other_weather</th>\n",
       "      <th>direct_report</th>\n",
       "    </tr>\n",
       "    <tr>\n",
       "      <th>related</th>\n",
       "      <th></th>\n",
       "      <th></th>\n",
       "      <th></th>\n",
       "      <th></th>\n",
       "      <th></th>\n",
       "      <th></th>\n",
       "      <th></th>\n",
       "      <th></th>\n",
       "      <th></th>\n",
       "      <th></th>\n",
       "      <th></th>\n",
       "      <th></th>\n",
       "      <th></th>\n",
       "      <th></th>\n",
       "      <th></th>\n",
       "      <th></th>\n",
       "      <th></th>\n",
       "      <th></th>\n",
       "      <th></th>\n",
       "      <th></th>\n",
       "      <th></th>\n",
       "    </tr>\n",
       "  </thead>\n",
       "  <tbody>\n",
       "    <tr>\n",
       "      <td>0</td>\n",
       "      <td>6122</td>\n",
       "      <td>6122</td>\n",
       "      <td>6122</td>\n",
       "      <td>6122</td>\n",
       "      <td>6122</td>\n",
       "      <td>6122</td>\n",
       "      <td>6122</td>\n",
       "      <td>6122</td>\n",
       "      <td>6122</td>\n",
       "      <td>6122</td>\n",
       "      <td>...</td>\n",
       "      <td>6122</td>\n",
       "      <td>6122</td>\n",
       "      <td>6122</td>\n",
       "      <td>6122</td>\n",
       "      <td>6122</td>\n",
       "      <td>6122</td>\n",
       "      <td>6122</td>\n",
       "      <td>6122</td>\n",
       "      <td>6122</td>\n",
       "      <td>6122</td>\n",
       "    </tr>\n",
       "    <tr>\n",
       "      <td>1</td>\n",
       "      <td>20094</td>\n",
       "      <td>20094</td>\n",
       "      <td>20094</td>\n",
       "      <td>20094</td>\n",
       "      <td>20094</td>\n",
       "      <td>20094</td>\n",
       "      <td>20094</td>\n",
       "      <td>20094</td>\n",
       "      <td>20094</td>\n",
       "      <td>20094</td>\n",
       "      <td>...</td>\n",
       "      <td>20094</td>\n",
       "      <td>20094</td>\n",
       "      <td>20094</td>\n",
       "      <td>20094</td>\n",
       "      <td>20094</td>\n",
       "      <td>20094</td>\n",
       "      <td>20094</td>\n",
       "      <td>20094</td>\n",
       "      <td>20094</td>\n",
       "      <td>20094</td>\n",
       "    </tr>\n",
       "  </tbody>\n",
       "</table>\n",
       "<p>2 rows × 35 columns</p>\n",
       "</div>"
      ],
      "text/plain": [
       "         request  offer  aid_related  medical_help  medical_products  \\\n",
       "related                                                                \n",
       "0           6122   6122         6122          6122              6122   \n",
       "1          20094  20094        20094         20094             20094   \n",
       "\n",
       "         search_and_rescue  security  military  child_alone  water  ...  \\\n",
       "related                                                             ...   \n",
       "0                     6122      6122      6122         6122   6122  ...   \n",
       "1                    20094     20094     20094        20094  20094  ...   \n",
       "\n",
       "         aid_centers  other_infrastructure  weather_related  floods  storm  \\\n",
       "related                                                                      \n",
       "0               6122                  6122             6122    6122   6122   \n",
       "1              20094                 20094            20094   20094  20094   \n",
       "\n",
       "          fire  earthquake   cold  other_weather  direct_report  \n",
       "related                                                          \n",
       "0         6122        6122   6122           6122           6122  \n",
       "1        20094       20094  20094          20094          20094  \n",
       "\n",
       "[2 rows x 35 columns]"
      ]
     },
     "execution_count": 6,
     "metadata": {},
     "output_type": "execute_result"
    }
   ],
   "source": [
    "Y.groupby(\"related\").count()"
   ]
  },
  {
   "cell_type": "markdown",
   "metadata": {},
   "source": [
    "### 2. Write a tokenization function to process your text data"
   ]
  },
  {
   "cell_type": "code",
   "execution_count": 7,
   "metadata": {},
   "outputs": [],
   "source": [
    "def tokenize(text):\n",
    "    tokens = word_tokenize(text)\n",
    "    #print(text)\n",
    "    #print(tokens)\n",
    "    lemmatizer = WordNetLemmatizer()\n",
    "\n",
    "    clean_tokens = []\n",
    "    for tok in tokens:\n",
    "        clean_tok = lemmatizer.lemmatize(tok).lower().strip()\n",
    "        clean_tokens.append(clean_tok)\n",
    "    \n",
    "    #print(clean_tokens)\n",
    "    return clean_tokens\n",
    "    pass\n"
   ]
  },
  {
   "cell_type": "code",
   "execution_count": 8,
   "metadata": {},
   "outputs": [],
   "source": [
    "for sentence in X:\n",
    "    tokenize(sentence)"
   ]
  },
  {
   "cell_type": "markdown",
   "metadata": {},
   "source": [
    "### 3. Build a machine learning pipeline\n",
    "This machine pipeline should take in the `message` column as input and output classification results on the other 36 categories in the dataset. You may find the [MultiOutputClassifier](http://scikit-learn.org/stable/modules/generated/sklearn.multioutput.MultiOutputClassifier.html) helpful for predicting multiple target variables."
   ]
  },
  {
   "cell_type": "code",
   "execution_count": 9,
   "metadata": {},
   "outputs": [],
   "source": [
    "pipeline = Pipeline([\n",
    "        ('vect', CountVectorizer(tokenizer=tokenize)),\n",
    "        ('tfidf', TfidfTransformer()),\n",
    "        ('clf', RandomForestClassifier())\n",
    "    ])"
   ]
  },
  {
   "cell_type": "markdown",
   "metadata": {},
   "source": [
    "### 4. Train pipeline\n",
    "- Split data into train and test sets\n",
    "- Train pipeline"
   ]
  },
  {
   "cell_type": "code",
   "execution_count": 10,
   "metadata": {},
   "outputs": [
    {
     "name": "stderr",
     "output_type": "stream",
     "text": [
      "/Users/guyzidkia/opt/anaconda3/lib/python3.7/site-packages/sklearn/ensemble/forest.py:245: FutureWarning: The default value of n_estimators will change from 10 in version 0.20 to 100 in 0.22.\n",
      "  \"10 in version 0.20 to 100 in 0.22.\", FutureWarning)\n"
     ]
    },
    {
     "data": {
      "text/plain": [
       "Pipeline(memory=None,\n",
       "         steps=[('vect',\n",
       "                 CountVectorizer(analyzer='word', binary=False,\n",
       "                                 decode_error='strict',\n",
       "                                 dtype=<class 'numpy.int64'>, encoding='utf-8',\n",
       "                                 input='content', lowercase=True, max_df=1.0,\n",
       "                                 max_features=None, min_df=1,\n",
       "                                 ngram_range=(1, 1), preprocessor=None,\n",
       "                                 stop_words=None, strip_accents=None,\n",
       "                                 token_pattern='(?u)\\\\b\\\\w\\\\w+\\\\b',\n",
       "                                 tokenizer=<function tokenize at...\n",
       "                 RandomForestClassifier(bootstrap=True, class_weight=None,\n",
       "                                        criterion='gini', max_depth=None,\n",
       "                                        max_features='auto',\n",
       "                                        max_leaf_nodes=None,\n",
       "                                        min_impurity_decrease=0.0,\n",
       "                                        min_impurity_split=None,\n",
       "                                        min_samples_leaf=1, min_samples_split=2,\n",
       "                                        min_weight_fraction_leaf=0.0,\n",
       "                                        n_estimators=10, n_jobs=None,\n",
       "                                        oob_score=False, random_state=None,\n",
       "                                        verbose=0, warm_start=False))],\n",
       "         verbose=False)"
      ]
     },
     "execution_count": 10,
     "metadata": {},
     "output_type": "execute_result"
    }
   ],
   "source": [
    "X_train, X_test, y_train, y_test = train_test_split(X, Y)\n",
    "pipeline.fit(X_train, y_train)"
   ]
  },
  {
   "cell_type": "markdown",
   "metadata": {},
   "source": [
    "### 5. Test your model\n",
    "Report the f1 score, precision and recall for each output category of the dataset. You can do this by iterating through the columns and calling sklearn's `classification_report` on each."
   ]
  },
  {
   "cell_type": "code",
   "execution_count": 11,
   "metadata": {},
   "outputs": [
    {
     "data": {
      "text/plain": [
       "Index(['related', 'request', 'offer', 'aid_related', 'medical_help',\n",
       "       'medical_products', 'search_and_rescue', 'security', 'military',\n",
       "       'child_alone', 'water', 'food', 'shelter', 'clothing', 'money',\n",
       "       'missing_people', 'refugees', 'death', 'other_aid',\n",
       "       'infrastructure_related', 'transport', 'buildings', 'electricity',\n",
       "       'tools', 'hospitals', 'shops', 'aid_centers', 'other_infrastructure',\n",
       "       'weather_related', 'floods', 'storm', 'fire', 'earthquake', 'cold',\n",
       "       'other_weather', 'direct_report'],\n",
       "      dtype='object')"
      ]
     },
     "execution_count": 11,
     "metadata": {},
     "output_type": "execute_result"
    }
   ],
   "source": [
    "y_test.columns"
   ]
  },
  {
   "cell_type": "code",
   "execution_count": 12,
   "metadata": {},
   "outputs": [
    {
     "name": "stdout",
     "output_type": "stream",
     "text": [
      "                        precision    recall  f1-score   support\n",
      "\n",
      "               related       0.84      0.90      0.87      4996\n",
      "               request       0.84      0.37      0.51      1183\n",
      "                 offer       0.50      0.03      0.06        67\n",
      "           aid_related       0.77      0.45      0.57      2762\n",
      "          medical_help       0.58      0.02      0.04       574\n",
      "      medical_products       0.58      0.03      0.06       378\n",
      "     search_and_rescue       0.50      0.02      0.05       201\n",
      "              security       0.50      0.01      0.03       151\n",
      "              military       0.50      0.01      0.03       224\n",
      "           child_alone       0.50      0.06      0.11        34\n",
      "                 water       0.86      0.15      0.26       460\n",
      "                  food       0.84      0.30      0.44       780\n",
      "               shelter       0.84      0.15      0.26       633\n",
      "              clothing       0.33      0.01      0.03       151\n",
      "                 money       0.75      0.03      0.06       198\n",
      "        missing_people       0.60      0.03      0.05       107\n",
      "              refugees       0.55      0.02      0.05       248\n",
      "                 death       0.72      0.06      0.11       316\n",
      "             other_aid       0.51      0.03      0.06       907\n",
      "infrastructure_related       0.56      0.01      0.02       455\n",
      "             transport       0.71      0.02      0.03       307\n",
      "             buildings       0.57      0.02      0.04       388\n",
      "           electricity       0.60      0.02      0.03       173\n",
      "                 tools       0.50      0.03      0.05        74\n",
      "             hospitals       0.50      0.02      0.04       108\n",
      "                 shops       0.50      0.03      0.06        64\n",
      "           aid_centers       0.50      0.02      0.03       120\n",
      "  other_infrastructure       0.43      0.01      0.02       299\n",
      "       weather_related       0.84      0.39      0.53      1851\n",
      "                floods       0.89      0.19      0.31       574\n",
      "                 storm       0.74      0.19      0.30       621\n",
      "                  fire       0.60      0.03      0.05       106\n",
      "            earthquake       0.88      0.31      0.46       674\n",
      "                  cold       0.57      0.02      0.05       164\n",
      "         other_weather       0.44      0.01      0.02       364\n",
      "         direct_report       0.76      0.31      0.45      1287\n",
      "\n",
      "             micro avg       0.82      0.38      0.52     21999\n",
      "             macro avg       0.63      0.12      0.17     21999\n",
      "          weighted avg       0.75      0.38      0.44     21999\n",
      "           samples avg       0.65      0.38      0.42     21999\n",
      "\n"
     ]
    },
    {
     "name": "stderr",
     "output_type": "stream",
     "text": [
      "/Users/guyzidkia/opt/anaconda3/lib/python3.7/site-packages/sklearn/metrics/classification.py:1437: UndefinedMetricWarning: Precision and F-score are ill-defined and being set to 0.0 in samples with no predicted labels.\n",
      "  'precision', 'predicted', average, warn_for)\n",
      "/Users/guyzidkia/opt/anaconda3/lib/python3.7/site-packages/sklearn/metrics/classification.py:1439: UndefinedMetricWarning: Recall and F-score are ill-defined and being set to 0.0 in samples with no true labels.\n",
      "  'recall', 'true', average, warn_for)\n"
     ]
    }
   ],
   "source": [
    "y_pred = pipeline.predict(X_test)\n",
    "y_pred = pd.DataFrame (y_pred, columns = y_test.columns)\n",
    "print(classification_report(y_test.values, y_pred, target_names=y_test.columns.values))"
   ]
  },
  {
   "cell_type": "code",
   "execution_count": 13,
   "metadata": {},
   "outputs": [
    {
     "data": {
      "text/plain": [
       "(6554, 36)"
      ]
     },
     "execution_count": 13,
     "metadata": {},
     "output_type": "execute_result"
    }
   ],
   "source": [
    "y_pred.shape"
   ]
  },
  {
   "cell_type": "markdown",
   "metadata": {},
   "source": [
    "### 6. Improve your model\n",
    "Use grid search to find better parameters. "
   ]
  },
  {
   "cell_type": "code",
   "execution_count": 14,
   "metadata": {},
   "outputs": [],
   "source": [
    "#y_test.dtypes"
   ]
  },
  {
   "cell_type": "code",
   "execution_count": 15,
   "metadata": {},
   "outputs": [],
   "source": [
    "#y_pred.dtypes"
   ]
  },
  {
   "cell_type": "code",
   "execution_count": 16,
   "metadata": {},
   "outputs": [],
   "source": [
    "parameters = {\n",
    "    \n",
    "         'clf__n_estimators': [5, 10, 20],\n",
    "        'clf__min_samples_split': [3, 4]\n",
    "    }\n",
    "\n",
    "cv = GridSearchCV (pipeline, param_grid= parameters)"
   ]
  },
  {
   "cell_type": "markdown",
   "metadata": {},
   "source": [
    "### 7. Test your model\n",
    "Show the accuracy, precision, and recall of the tuned model.  \n",
    "\n",
    "Since this project focuses on code quality, process, and  pipelines, there is no minimum performance metric needed to pass. However, make sure to fine tune your models for accuracy, precision and recall to make your project stand out - especially for your portfolio!"
   ]
  },
  {
   "cell_type": "code",
   "execution_count": 17,
   "metadata": {},
   "outputs": [
    {
     "name": "stderr",
     "output_type": "stream",
     "text": [
      "/Users/guyzidkia/opt/anaconda3/lib/python3.7/site-packages/sklearn/model_selection/_split.py:1978: FutureWarning: The default value of cv will change from 3 to 5 in version 0.22. Specify it explicitly to silence this warning.\n",
      "  warnings.warn(CV_WARNING, FutureWarning)\n"
     ]
    }
   ],
   "source": [
    "model = cv\n",
    "model.fit(X_train, y_train)\n",
    "y_pred2 = model.predict (X_test)\n",
    "#converting to a dataframe\n",
    "y_pred2 = pd.DataFrame (y_pred2, columns = y_test.columns)"
   ]
  },
  {
   "cell_type": "code",
   "execution_count": 18,
   "metadata": {},
   "outputs": [
    {
     "name": "stdout",
     "output_type": "stream",
     "text": [
      "                        precision    recall  f1-score   support\n",
      "\n",
      "               related       0.83      0.95      0.89      4996\n",
      "               request       0.86      0.43      0.57      1183\n",
      "                 offer       0.67      0.03      0.06        67\n",
      "           aid_related       0.79      0.53      0.63      2762\n",
      "          medical_help       0.71      0.03      0.05       574\n",
      "      medical_products       0.50      0.02      0.04       378\n",
      "     search_and_rescue       0.75      0.03      0.06       201\n",
      "              security       0.67      0.01      0.03       151\n",
      "              military       0.80      0.02      0.03       224\n",
      "           child_alone       0.67      0.06      0.11        34\n",
      "                 water       0.88      0.18      0.30       460\n",
      "                  food       0.84      0.34      0.49       780\n",
      "               shelter       0.85      0.13      0.22       633\n",
      "              clothing       0.50      0.04      0.07       151\n",
      "                 money       0.86      0.03      0.06       198\n",
      "        missing_people       0.67      0.02      0.04       107\n",
      "              refugees       0.71      0.02      0.04       248\n",
      "                 death       0.84      0.07      0.12       316\n",
      "             other_aid       0.69      0.02      0.05       907\n",
      "infrastructure_related       0.40      0.00      0.01       455\n",
      "             transport       0.86      0.02      0.04       307\n",
      "             buildings       0.64      0.02      0.04       388\n",
      "           electricity       0.67      0.01      0.02       173\n",
      "                 tools       0.67      0.03      0.05        74\n",
      "             hospitals       0.67      0.02      0.04       108\n",
      "                 shops       0.67      0.03      0.06        64\n",
      "           aid_centers       0.67      0.02      0.03       120\n",
      "  other_infrastructure       0.40      0.01      0.01       299\n",
      "       weather_related       0.87      0.49      0.63      1851\n",
      "                floods       0.92      0.21      0.34       574\n",
      "                 storm       0.72      0.20      0.32       621\n",
      "                  fire       0.67      0.02      0.04       106\n",
      "            earthquake       0.90      0.45      0.60       674\n",
      "                  cold       0.67      0.02      0.05       164\n",
      "         other_weather       0.60      0.01      0.02       364\n",
      "         direct_report       0.80      0.36      0.49      1287\n",
      "\n",
      "             micro avg       0.83      0.42      0.55     21999\n",
      "             macro avg       0.72      0.14      0.18     21999\n",
      "          weighted avg       0.78      0.42      0.47     21999\n",
      "           samples avg       0.68      0.42      0.47     21999\n",
      "\n"
     ]
    },
    {
     "name": "stderr",
     "output_type": "stream",
     "text": [
      "/Users/guyzidkia/opt/anaconda3/lib/python3.7/site-packages/sklearn/metrics/classification.py:1437: UndefinedMetricWarning: Precision and F-score are ill-defined and being set to 0.0 in samples with no predicted labels.\n",
      "  'precision', 'predicted', average, warn_for)\n",
      "/Users/guyzidkia/opt/anaconda3/lib/python3.7/site-packages/sklearn/metrics/classification.py:1439: UndefinedMetricWarning: Recall and F-score are ill-defined and being set to 0.0 in samples with no true labels.\n",
      "  'recall', 'true', average, warn_for)\n"
     ]
    }
   ],
   "source": [
    "print(classification_report(y_test.values, y_pred2, target_names=y_test.columns.values))"
   ]
  },
  {
   "cell_type": "markdown",
   "metadata": {},
   "source": [
    "### 8. Try improving your model further. Here are a few ideas:\n",
    "* try other machine learning algorithms\n",
    "* add other features besides the TF-IDF"
   ]
  },
  {
   "cell_type": "code",
   "execution_count": 25,
   "metadata": {},
   "outputs": [],
   "source": [
    "class StartingVerbExtractor(BaseEstimator, TransformerMixin):\n",
    "\n",
    "    def starting_verb(self, text):\n",
    "        sentence_list = nltk.sent_tokenize(text)\n",
    "        for sentence in sentence_list:\n",
    "            pos_tags = nltk.pos_tag(tokenize(sentence))\n",
    "            first_word, first_tag = pos_tags[0]\n",
    "            if first_tag in ['VB', 'VBP'] or first_word == 'RT':\n",
    "                return True\n",
    "        return False\n",
    "\n",
    "    def fit(self, x, y=None):\n",
    "        return self\n",
    "\n",
    "    def transform(self, X):\n",
    "        X_tagged = pd.Series(X).apply(self.starting_verb)\n",
    "        return pd.DataFrame(X_tagged)"
   ]
  },
  {
   "cell_type": "code",
   "execution_count": 26,
   "metadata": {},
   "outputs": [],
   "source": [
    "pipeline = Pipeline([\n",
    "        ('features', FeatureUnion([\n",
    "\n",
    "            ('text_pipeline', Pipeline([\n",
    "                ('vect', CountVectorizer(tokenizer=tokenize)),\n",
    "                ('tfidf', TfidfTransformer())\n",
    "            ])),\n",
    "\n",
    "            ('starting_verb', StartingVerbExtractor())\n",
    "        ])),\n",
    "\n",
    "        ('clf', RandomForestClassifier())\n",
    "    ])\n",
    "\n",
    "parameters = {\n",
    "    \n",
    "         'clf__n_estimators': [5, 10, 20],\n",
    "        'clf__min_samples_split': [3, 4]\n",
    "    }\n"
   ]
  },
  {
   "cell_type": "code",
   "execution_count": 27,
   "metadata": {},
   "outputs": [],
   "source": [
    "cv = GridSearchCV (pipeline, param_grid = parameters)"
   ]
  },
  {
   "cell_type": "code",
   "execution_count": null,
   "metadata": {},
   "outputs": [
    {
     "name": "stderr",
     "output_type": "stream",
     "text": [
      "/Users/guyzidkia/opt/anaconda3/lib/python3.7/site-packages/sklearn/model_selection/_split.py:1978: FutureWarning: The default value of cv will change from 3 to 5 in version 0.22. Specify it explicitly to silence this warning.\n",
      "  warnings.warn(CV_WARNING, FutureWarning)\n"
     ]
    }
   ],
   "source": [
    "model = cv\n",
    "model.fit(X_train, y_train)"
   ]
  },
  {
   "cell_type": "code",
   "execution_count": null,
   "metadata": {},
   "outputs": [],
   "source": [
    "SVC().get_params().keys()"
   ]
  },
  {
   "cell_type": "code",
   "execution_count": null,
   "metadata": {},
   "outputs": [],
   "source": [
    "y_pred = model.predict (X_test)\n",
    "#converting to a dataframe\n",
    "y_pred = pd.DataFrame (y_pred, columns = y_test.columns)"
   ]
  },
  {
   "cell_type": "code",
   "execution_count": null,
   "metadata": {},
   "outputs": [],
   "source": [
    "reuslts = (classification_report(y_test.values, y_pred, target_names=y_test.columns.values))\n",
    "print (reuslts3)"
   ]
  },
  {
   "cell_type": "markdown",
   "metadata": {},
   "source": [
    "### 9. Export your model as a pickle file"
   ]
  },
  {
   "cell_type": "code",
   "execution_count": null,
   "metadata": {},
   "outputs": [],
   "source": [
    "pickle.dump(model2, open('disaster_model.sav', 'wb'))"
   ]
  },
  {
   "cell_type": "markdown",
   "metadata": {},
   "source": [
    "### 10. Use this notebook to complete `train.py`\n",
    "Use the template file attached in the Resources folder to write a script that runs the steps above to create a database and export a model based on a new dataset specified by the user."
   ]
  },
  {
   "cell_type": "code",
   "execution_count": null,
   "metadata": {},
   "outputs": [],
   "source": []
  },
  {
   "cell_type": "code",
   "execution_count": null,
   "metadata": {},
   "outputs": [],
   "source": []
  },
  {
   "cell_type": "code",
   "execution_count": null,
   "metadata": {},
   "outputs": [],
   "source": []
  },
  {
   "cell_type": "code",
   "execution_count": null,
   "metadata": {},
   "outputs": [],
   "source": []
  },
  {
   "cell_type": "code",
   "execution_count": null,
   "metadata": {},
   "outputs": [],
   "source": []
  },
  {
   "cell_type": "code",
   "execution_count": null,
   "metadata": {},
   "outputs": [],
   "source": []
  }
 ],
 "metadata": {
  "kernelspec": {
   "display_name": "Python 3",
   "language": "python",
   "name": "python3"
  },
  "language_info": {
   "codemirror_mode": {
    "name": "ipython",
    "version": 3
   },
   "file_extension": ".py",
   "mimetype": "text/x-python",
   "name": "python",
   "nbconvert_exporter": "python",
   "pygments_lexer": "ipython3",
   "version": "3.7.4"
  }
 },
 "nbformat": 4,
 "nbformat_minor": 2
}
